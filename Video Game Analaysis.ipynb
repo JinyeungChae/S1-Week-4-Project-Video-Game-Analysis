{
  "nbformat": 4,
  "nbformat_minor": 0,
  "metadata": {
    "colab": {
      "name": "Untitled3.ipynb",
      "private_outputs": true,
      "provenance": []
    },
    "kernelspec": {
      "name": "python3",
      "display_name": "Python 3"
    },
    "language_info": {
      "name": "python"
    }
  },
  "cells": [
    {
      "cell_type": "code",
      "metadata": {
        "id": "_C7IOhS1jMB8"
      },
      "source": [
        "#데이터 불러오기\n",
        "import pandas as pd\n",
        "\n",
        "url = 'https://ds-lecture-data.s3.ap-northeast-2.amazonaws.com/datasets/vgames2.csv'\n",
        "df = pd.read_csv(url)\n",
        "\n",
        "df.head()"
      ],
      "execution_count": null,
      "outputs": []
    },
    {
      "cell_type": "code",
      "metadata": {
        "id": "0bNb7Ceh74so"
      },
      "source": [
        "#데이터 타입 확인\n",
        "df.dtypes"
      ],
      "execution_count": null,
      "outputs": []
    },
    {
      "cell_type": "code",
      "metadata": {
        "id": "quL8OxYc5cLV"
      },
      "source": [
        "#데이터 전처리\n",
        "df = df.drop('Unnamed: 0', axis=1)\n",
        "df['Year'] = df['Year'].astype(str)\n",
        "df = df.rename(columns = {'Name': '게임명 (Name)','Platform': '지원 플랫폼 (Platform)','Year': '출시 연도 (Year)','Genre': '장르 (Genre)',\n",
        "                          'Publisher': '제작사 (Publisher)','NA_Sales': '북미 매출액 (NA_Sales)','EU_Sales': '유럽 매출액 (EU_Sales)',\n",
        "                          'JP_Sales': '일본 매출액 (JP_Sales)','Other_Sales': '기타지역 매출액 (Other_Sales)'\n",
        "                          })\n",
        "df.head()"
      ],
      "execution_count": null,
      "outputs": []
    },
    {
      "cell_type": "code",
      "metadata": {
        "id": "QHF6ipuoy3Qj"
      },
      "source": [
        "# 매출액 데이터 전처리 (단위 : 백만/1,000,000)\n",
        "\n",
        "def sales(a):\n",
        "  K = pd.to_numeric(df[df[a].str.contains('K')][a].str.split('K').str[0])/1000\n",
        "  df.loc[K.index,a] = K.astype('string')\n",
        "  M = pd.to_numeric(df[df[a].str.contains('M')][a].str.split('M').str[0])\n",
        "  df.loc[M.index,a] = M.astype('string')\n",
        "  df[a] = pd.to_numeric(df[a])\n",
        "\n",
        "sales('북미 매출액 (NA_Sales)')\n",
        "sales('유럽 매출액 (EU_Sales)')\n",
        "sales('일본 매출액 (JP_Sales)')\n",
        "sales('기타지역 매출액 (Other_Sales)')\n",
        "\n",
        "print('$n',df.dtypes)\n",
        "print(df.isnull().sum())\n",
        "# print(df.dtypes)"
      ],
      "execution_count": null,
      "outputs": []
    },
    {
      "cell_type": "code",
      "metadata": {
        "id": "hm-Wp_ZOFtdP"
      },
      "source": [
        "#결측치 데이터 전처리\n",
        "df.dropna(subset=['출시 연도 (Year)', '장르 (Genre)', '제작사 (Publisher)'], inplace = True)\n",
        "df.head()"
      ],
      "execution_count": null,
      "outputs": []
    },
    {
      "cell_type": "code",
      "metadata": {
        "id": "q5iAt8wl7siS"
      },
      "source": [
        "#장르별 총 매출액 확인\n",
        "grouped = df.groupby('장르 (Genre)').sum()\n",
        "grouped['총 매출액 (Total Sales)'] = grouped['북미 매출액 (NA_Sales)'] + grouped['유럽 매출액 (EU_Sales)'] + grouped['일본 매출액 (JP_Sales)'] + grouped['기타지역 매출액 (Other_Sales)']\n",
        "grouped.sort_values('총 매출액 (Total Sales)', ascending=False)"
      ],
      "execution_count": null,
      "outputs": []
    },
    {
      "cell_type": "code",
      "metadata": {
        "id": "4ZjGMcbVDT3n"
      },
      "source": [
        "#시각화 한국어 오류 처리\n",
        "!sudo apt-get install -y fonts-nanum\n",
        "!sudo fc-cache -fv\n",
        "!rm ~/.cache/matplotlib -rf"
      ],
      "execution_count": null,
      "outputs": []
    },
    {
      "cell_type": "code",
      "metadata": {
        "id": "SBiCPn7rAaGK"
      },
      "source": [
        "#장르별 매출액 시각화\n",
        "\n",
        "import matplotlib.pyplot as plt\n",
        "import seaborn as sns\n",
        "\n",
        "plt.rc('font', family='NanumBarunGothic')\n",
        "plt.rcParams['axes.unicode_minus'] = False\n",
        "plt.rcParams['font.size'] = 10.\n",
        "plt.rcParams['xtick.labelsize'] = 12.\n",
        "plt.rcParams['ytick.labelsize'] = 12.\n",
        "plt.rcParams['axes.labelsize'] = 15.\n",
        "\n",
        "def genre(name,data_name):\n",
        "  name = pd.DataFrame(df.groupby(['장르 (Genre)'])[data_name].sum()).head(5)\n",
        "  name.reset_index(inplace=True)\n",
        "  name=name.sort_values(by=data_name, ascending=False)\n",
        "  sns.barplot(x=data_name, y='장르 (Genre)', data=name, palette=\"copper\").set_title(\"지역별 Top 5 선호 게임 장르 (단위: 백만불)\")\n",
        "  print(df.groupby(['장르 (Genre)'])[data_name]).sum().head(5)\n",
        "\n",
        "print(genre('장르 (Genre)','북미 매출액 (NA_Sales)'))"
      ],
      "execution_count": null,
      "outputs": []
    },
    {
      "cell_type": "code",
      "metadata": {
        "id": "5ZkFZTA6FCg1"
      },
      "source": [
        "print(genre('장르 (Genre)','유럽 매출액 (EU_Sales)'))"
      ],
      "execution_count": null,
      "outputs": []
    },
    {
      "cell_type": "code",
      "metadata": {
        "id": "bHQ2i2mbFIrN"
      },
      "source": [
        "print(genre('장르 (Genre)','일본 매출액 (JP_Sales)'))"
      ],
      "execution_count": null,
      "outputs": []
    },
    {
      "cell_type": "code",
      "metadata": {
        "id": "oDCfTtoAFNRM"
      },
      "source": [
        "print(genre('장르 (Genre)','기타지역 매출액 (Other_Sales)'))"
      ],
      "execution_count": null,
      "outputs": []
    },
    {
      "cell_type": "code",
      "metadata": {
        "id": "sLNv3Kjy-nDM"
      },
      "source": [
        "#연도별 트렌드 10년 단위\n",
        "df['연도별 트렌드(10년)'] = df['출시 연도 (Year)'].str[:3]\n",
        "df_graph = df.groupby(['연도별 트렌드(10년)','장르 (Genre)']).size().reset_index().pivot(columns='장르 (Genre)', index='연도별 트렌드(10년)', values=0)\n",
        "df_graph"
      ],
      "execution_count": null,
      "outputs": []
    },
    {
      "cell_type": "code",
      "metadata": {
        "id": "ic4LbTIKPRo7"
      },
      "source": [
        "#연도별 트렌드 데이터셋\n",
        "df_trend = pd.DataFrame({\n",
        "              'Action': [66.0, 158.0, 1573.0, 1429.0],\n",
        "              'Adventure': [2.0, 96.0, 629.0, 537.0],\n",
        "              'Fighting': [4.0, 191.0, 440.0, 194.0],\n",
        "              'Misc': [8.0, 115.0, 991.0, 557.0],\n",
        "              'Platform': [32.0, 124.0, 559.0, 150.0],\n",
        "              'Puzzle': [19.0, 71.0, 356.0, 112.0],\n",
        "              'Racing': [8.0, 179.0, 791.0, 231.0],\n",
        "              'Role-Playing': [9.0, 171.0, 728.0, 549.0],\n",
        "              'Shooter': [30.0, 136.0, 712.0, 390.0], \n",
        "              'Simulation': [3.0, 86.0, 547.0, 204.0],\n",
        "              'Sports': [22.0, 303.0, 1397.0, 567.0],\n",
        "              'Strategy': [0.0, 121.0, 377.0, 166.0]},\n",
        "             index=['1980년', '1990년', '2000년', '2010년'])\n",
        "df_trend"
      ],
      "execution_count": null,
      "outputs": []
    },
    {
      "cell_type": "code",
      "metadata": {
        "id": "CyyuEkIhLFoJ"
      },
      "source": [
        "#연도별 게임 트렌드 시각화\n",
        "df_trend.plot().set_title(\"연도별 게임 트렌드 (단위: 백만불)\")"
      ],
      "execution_count": null,
      "outputs": []
    },
    {
      "cell_type": "code",
      "metadata": {
        "id": "WfBFrPm7PTnC"
      },
      "source": [
        "#매출이 높은 게임 분석\n",
        "df['총매출 (Total_Sales)'] = df['북미 매출액 (NA_Sales)'] + df['유럽 매출액 (EU_Sales)'] + df['일본 매출액 (JP_Sales)'] + df['기타지역 매출액 (Other_Sales)']\n",
        "df.sort_values(by='총매출 (Total_Sales)', ascending=False, inplace=True)\n",
        "df.reset_index(drop=True, inplace=True)\n",
        "df.head(30)"
      ],
      "execution_count": null,
      "outputs": []
    },
    {
      "cell_type": "code",
      "metadata": {
        "id": "UWHox4HKQAIh"
      },
      "source": [
        "df['총매출 (Total_Sales)'].sum()"
      ],
      "execution_count": null,
      "outputs": []
    },
    {
      "cell_type": "code",
      "metadata": {
        "id": "GBveD6qVSDI7"
      },
      "source": [
        ""
      ],
      "execution_count": null,
      "outputs": []
    }
  ]
}